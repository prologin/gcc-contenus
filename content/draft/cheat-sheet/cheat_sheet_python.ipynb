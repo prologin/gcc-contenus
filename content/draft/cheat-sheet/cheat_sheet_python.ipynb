{
 "cells": [
  {
   "cell_type": "markdown",
   "metadata": {},
   "source": [
    "# Introduction\n",
    "\n",
    "Bienvenue dans le monde merveilleux du Python. Ce livret a pour but de regrouper les différentes notions que vous avez pu voir au cours de ce stage en un seul endroit, afin que vous puissiez y accéder facilement en cas de nécessité. Ainsi, chaque page résumera et approfondira un concept en particulier. Bonne lecture !"
   ]
  },
  {
   "cell_type": "markdown",
   "metadata": {},
   "source": [
    "# Notions élémentaires\n",
    "\n",
    "Tout au long de ce document, tu remarqueras peut-être des phrases précédées par un #. Il s'agit de **commentaires**. Ils n'ont aucun impact sur l'exécution du code, mais permettent d'apporter des précisions au lecteur.\n",
    "\n",
    "## Nombres\n",
    "\n",
    "Ils peuvent être de plusieurs types différents :\n",
    "\n",
    "- **int**, qui représente les nombres entiers, comme 42 ou 1337\n",
    "- **float**, qui représente les nombres décimaux, comme 3.14 ou 0.33333333333\n",
    "\n",
    "Tu peux vérifier le type de cette manière:"
   ]
  },
  {
   "cell_type": "code",
   "execution_count": 1,
   "metadata": {},
   "outputs": [
    {
     "data": {
      "text/plain": [
       "int"
      ]
     },
     "execution_count": 1,
     "metadata": {},
     "output_type": "execute_result"
    }
   ],
   "source": [
    "type(42)"
   ]
  },
  {
   "cell_type": "code",
   "execution_count": 2,
   "metadata": {},
   "outputs": [
    {
     "data": {
      "text/plain": [
       "float"
      ]
     },
     "execution_count": 2,
     "metadata": {},
     "output_type": "execute_result"
    }
   ],
   "source": [
    "type(3.14)"
   ]
  },
  {
   "cell_type": "markdown",
   "metadata": {},
   "source": [
    "Sans surprise, il est possible d'effectuer des opérations sur ces nombres ! C'est très proche de ce que tu as pu voir en mathématiques."
   ]
  },
  {
   "cell_type": "code",
   "execution_count": 3,
   "metadata": {},
   "outputs": [
    {
     "data": {
      "text/plain": [
       "10"
      ]
     },
     "execution_count": 3,
     "metadata": {},
     "output_type": "execute_result"
    }
   ],
   "source": [
    "6 + 4"
   ]
  },
  {
   "cell_type": "code",
   "execution_count": 4,
   "metadata": {},
   "outputs": [
    {
     "data": {
      "text/plain": [
       "42"
      ]
     },
     "execution_count": 4,
     "metadata": {},
     "output_type": "execute_result"
    }
   ],
   "source": [
    "6 * 7"
   ]
  },
  {
   "cell_type": "code",
   "execution_count": 5,
   "metadata": {},
   "outputs": [
    {
     "data": {
      "text/plain": [
       "40"
      ]
     },
     "execution_count": 5,
     "metadata": {},
     "output_type": "execute_result"
    }
   ],
   "source": [
    "50 - 10"
   ]
  },
  {
   "cell_type": "code",
   "execution_count": 6,
   "metadata": {},
   "outputs": [
    {
     "data": {
      "text/plain": [
       "1.6666666666666667"
      ]
     },
     "execution_count": 6,
     "metadata": {},
     "output_type": "execute_result"
    }
   ],
   "source": [
    "5 / 3"
   ]
  },
  {
   "cell_type": "code",
   "execution_count": 7,
   "metadata": {},
   "outputs": [
    {
     "data": {
      "text/plain": [
       "17"
      ]
     },
     "execution_count": 7,
     "metadata": {},
     "output_type": "execute_result"
    }
   ],
   "source": [
    "35 // 2  # Cet opérateur de division te donne la partie entière"
   ]
  },
  {
   "cell_type": "code",
   "execution_count": 8,
   "metadata": {},
   "outputs": [
    {
     "data": {
      "text/plain": [
       "1"
      ]
     },
     "execution_count": 8,
     "metadata": {},
     "output_type": "execute_result"
    }
   ],
   "source": [
    "10 % 3  # Cet opérateur est le modulo, qui donne le reste de la division euclidienne"
   ]
  },
  {
   "cell_type": "code",
   "execution_count": 9,
   "metadata": {},
   "outputs": [
    {
     "data": {
      "text/plain": [
       "2850"
      ]
     },
     "execution_count": 9,
     "metadata": {},
     "output_type": "execute_result"
    }
   ],
   "source": [
    "50 * (10 + 9) * 3  # Les parenthèses permettent de modifier les priorités "
   ]
  },
  {
   "cell_type": "markdown",
   "metadata": {},
   "source": [
    "## Chaînes de caractères\n",
    "\n",
    "Les chaînes de caractères peuvent être créés de plusieurs manières :"
   ]
  },
  {
   "cell_type": "code",
   "execution_count": 10,
   "metadata": {},
   "outputs": [
    {
     "data": {
      "text/plain": [
       "'Mon nom est Python, mais je ne mords pas !'"
      ]
     },
     "execution_count": 10,
     "metadata": {},
     "output_type": "execute_result"
    }
   ],
   "source": [
    "'Mon nom est Python, mais je ne mords pas !'"
   ]
  },
  {
   "cell_type": "code",
   "execution_count": 11,
   "metadata": {},
   "outputs": [
    {
     "data": {
      "text/plain": [
       "'Mon nom est Python, mais je ne mords pas !'"
      ]
     },
     "execution_count": 11,
     "metadata": {},
     "output_type": "execute_result"
    }
   ],
   "source": [
    "\"Mon nom est Python, mais je ne mords pas !\""
   ]
  },
  {
   "cell_type": "markdown",
   "metadata": {},
   "source": [
    "Il est facile d'en créer à partir d'autres chaînes de caractères :"
   ]
  },
  {
   "cell_type": "code",
   "execution_count": 12,
   "metadata": {},
   "outputs": [
    {
     "data": {
      "text/plain": [
       "'blablablablabla'"
      ]
     },
     "execution_count": 12,
     "metadata": {},
     "output_type": "execute_result"
    }
   ],
   "source": [
    "\"bla\" * 5"
   ]
  },
  {
   "cell_type": "code",
   "execution_count": 13,
   "metadata": {},
   "outputs": [
    {
     "data": {
      "text/plain": [
       "'Croyez-moi, je ne suis pas venimeux, je suis même très amical !'"
      ]
     },
     "execution_count": 13,
     "metadata": {},
     "output_type": "execute_result"
    }
   ],
   "source": [
    "\"Croyez-moi, je ne suis pas venimeux, \" + \"je suis même très amical !\""
   ]
  },
  {
   "cell_type": "code",
   "execution_count": 14,
   "metadata": {},
   "outputs": [
    {
     "data": {
      "text/plain": [
       "'je ne crie pas'"
      ]
     },
     "execution_count": 14,
     "metadata": {},
     "output_type": "execute_result"
    }
   ],
   "source": [
    "\"JE NE CRIE PAS\".lower()"
   ]
  },
  {
   "cell_type": "code",
   "execution_count": 15,
   "metadata": {},
   "outputs": [
    {
     "data": {
      "text/plain": [
       "\"D'ACCORD, JE VAIS MONTER LE SON !\""
      ]
     },
     "execution_count": 15,
     "metadata": {},
     "output_type": "execute_result"
    }
   ],
   "source": [
    "\"D'accord, je vais monter le son !\".upper()"
   ]
  },
  {
   "cell_type": "markdown",
   "metadata": {},
   "source": [
    "Il arrive parfois que l'on ait besoin de récupérer la longueur d'une chaîne. L'exemple qui suit te montre comment faire. N'oublie pas, les espaces sont aussi pris en compte à l'intérieur d'une chaîne. Si la chaîne est vide, len te donnera 0."
   ]
  },
  {
   "cell_type": "code",
   "execution_count": 16,
   "metadata": {},
   "outputs": [
    {
     "data": {
      "text/plain": [
       "25"
      ]
     },
     "execution_count": 16,
     "metadata": {},
     "output_type": "execute_result"
    }
   ],
   "source": [
    "len(\"Je suis le roi du monde !\")"
   ]
  },
  {
   "cell_type": "markdown",
   "metadata": {},
   "source": [
    "A chaque caractère est associé un index, c'est-à-dire une valeur qui représente son emplacement dans la chaîne. Le premier élément a toujours pour index 0. Pour accéder à un caractère particulier :"
   ]
  },
  {
   "cell_type": "code",
   "execution_count": 17,
   "metadata": {},
   "outputs": [
    {
     "data": {
      "text/plain": [
       "'C'"
      ]
     },
     "execution_count": 17,
     "metadata": {},
     "output_type": "execute_result"
    }
   ],
   "source": [
    "\"Coucou !\"[0]  # renvoie le premier élément"
   ]
  },
  {
   "cell_type": "code",
   "execution_count": 18,
   "metadata": {},
   "outputs": [
    {
     "data": {
      "text/plain": [
       "'!'"
      ]
     },
     "execution_count": 18,
     "metadata": {},
     "output_type": "execute_result"
    }
   ],
   "source": [
    "\"Coucou !\"[-1]  # parcourt la chaîne à partir de la fin"
   ]
  },
  {
   "cell_type": "code",
   "execution_count": 19,
   "metadata": {},
   "outputs": [
    {
     "data": {
      "text/plain": [
       "'u'"
      ]
     },
     "execution_count": 19,
     "metadata": {},
     "output_type": "execute_result"
    }
   ],
   "source": [
    "\"Coucou !\"[5]"
   ]
  },
  {
   "cell_type": "markdown",
   "metadata": {},
   "source": [
    "Parfois, on peut avoir besoin de supprimer des espaces en trop au début ou à la fin d'une chaîne de caractères. Pour nous aider, on peut faire appel à :"
   ]
  },
  {
   "cell_type": "code",
   "execution_count": 20,
   "metadata": {},
   "outputs": [
    {
     "data": {
      "text/plain": [
       "\"Il y a bien trop d'espaces ici !\""
      ]
     },
     "execution_count": 20,
     "metadata": {},
     "output_type": "execute_result"
    }
   ],
   "source": [
    "\"        Il y a bien trop d'espaces ici !          \".strip()  # supprime les espaces en trop à gauche et à droite"
   ]
  },
  {
   "cell_type": "code",
   "execution_count": 21,
   "metadata": {},
   "outputs": [
    {
     "data": {
      "text/plain": [
       "\"C'est bien aéré        \""
      ]
     },
     "execution_count": 21,
     "metadata": {},
     "output_type": "execute_result"
    }
   ],
   "source": [
    "\"        C'est bien aéré        \".lstrip()  #supprime les espaces en trop à gauche"
   ]
  },
  {
   "cell_type": "code",
   "execution_count": 22,
   "metadata": {},
   "outputs": [
    {
     "data": {
      "text/plain": [
       "'   Attention, ils arrivent !'"
      ]
     },
     "execution_count": 22,
     "metadata": {},
     "output_type": "execute_result"
    }
   ],
   "source": [
    "\"   Attention, ils arrivent !        \".rstrip()  # supprime les espaces en trop à droite"
   ]
  },
  {
   "cell_type": "markdown",
   "metadata": {},
   "source": [
    "## Comparaisons\n",
    "\n",
    "Lorsqu'on a besoin de comparer deux valeurs, on utilise des opérateurs de comparaisons. Ils peuvent renvoyer deux valeurs opposées : True ou False."
   ]
  },
  {
   "cell_type": "code",
   "execution_count": 23,
   "metadata": {},
   "outputs": [
    {
     "data": {
      "text/plain": [
       "False"
      ]
     },
     "execution_count": 23,
     "metadata": {},
     "output_type": "execute_result"
    }
   ],
   "source": [
    "7845 == 7889  # égalité"
   ]
  },
  {
   "cell_type": "code",
   "execution_count": 24,
   "metadata": {},
   "outputs": [
    {
     "data": {
      "text/plain": [
       "True"
      ]
     },
     "execution_count": 24,
     "metadata": {},
     "output_type": "execute_result"
    }
   ],
   "source": [
    "1500 != 403  # inégalité"
   ]
  },
  {
   "cell_type": "code",
   "execution_count": 25,
   "metadata": {},
   "outputs": [
    {
     "data": {
      "text/plain": [
       "True"
      ]
     },
     "execution_count": 25,
     "metadata": {},
     "output_type": "execute_result"
    }
   ],
   "source": [
    "1500 < 8000  # inférieur strict"
   ]
  },
  {
   "cell_type": "code",
   "execution_count": 26,
   "metadata": {},
   "outputs": [
    {
     "data": {
      "text/plain": [
       "True"
      ]
     },
     "execution_count": 26,
     "metadata": {},
     "output_type": "execute_result"
    }
   ],
   "source": [
    "1500 <= 1500  # inférieur ou égal"
   ]
  },
  {
   "cell_type": "code",
   "execution_count": 27,
   "metadata": {},
   "outputs": [
    {
     "data": {
      "text/plain": [
       "False"
      ]
     },
     "execution_count": 27,
     "metadata": {},
     "output_type": "execute_result"
    }
   ],
   "source": [
    "60 > 70  # supérieur strict"
   ]
  },
  {
   "cell_type": "code",
   "execution_count": 28,
   "metadata": {},
   "outputs": [
    {
     "data": {
      "text/plain": [
       "True"
      ]
     },
     "execution_count": 28,
     "metadata": {},
     "output_type": "execute_result"
    }
   ],
   "source": [
    "60 >= 50  # supérieur ou égal "
   ]
  },
  {
   "cell_type": "markdown",
   "metadata": {},
   "source": [
    "Cela fonctionne aussi sur les chaînes de caractères ! Essayons :"
   ]
  },
  {
   "cell_type": "code",
   "execution_count": 29,
   "metadata": {},
   "outputs": [
    {
     "data": {
      "text/plain": [
       "False"
      ]
     },
     "execution_count": 29,
     "metadata": {},
     "output_type": "execute_result"
    }
   ],
   "source": [
    "\"Chocolat\" > \"Chocolat\""
   ]
  },
  {
   "cell_type": "code",
   "execution_count": 30,
   "metadata": {},
   "outputs": [
    {
     "data": {
      "text/plain": [
       "True"
      ]
     },
     "execution_count": 30,
     "metadata": {},
     "output_type": "execute_result"
    }
   ],
   "source": [
    "\"Chocolat\" >= \"Chocolat\""
   ]
  },
  {
   "cell_type": "markdown",
   "metadata": {},
   "source": [
    "Parfois, il est utile de combiner ces conditions. Par exemple, si on veut savoir si une valeur est comprise dans un intervalle, on peut procéder comme suit:"
   ]
  },
  {
   "cell_type": "code",
   "execution_count": 31,
   "metadata": {},
   "outputs": [
    {
     "data": {
      "text/plain": [
       "True"
      ]
     },
     "execution_count": 31,
     "metadata": {},
     "output_type": "execute_result"
    }
   ],
   "source": [
    "1 < 2 and 2 < 3  # and est l'opérateur ET LOGIQUE"
   ]
  },
  {
   "cell_type": "markdown",
   "metadata": {},
   "source": [
    "Dans le cas de l'opérateur **and**, tu peux partir du principe que si l'une des parties est False, alors le résultat est False."
   ]
  },
  {
   "cell_type": "code",
   "execution_count": 32,
   "metadata": {},
   "outputs": [
    {
     "data": {
      "text/plain": [
       "False"
      ]
     },
     "execution_count": 32,
     "metadata": {},
     "output_type": "execute_result"
    }
   ],
   "source": [
    "1 < 2 and 2 > 3"
   ]
  },
  {
   "cell_type": "code",
   "execution_count": 33,
   "metadata": {},
   "outputs": [
    {
     "data": {
      "text/plain": [
       "False"
      ]
     },
     "execution_count": 33,
     "metadata": {},
     "output_type": "execute_result"
    }
   ],
   "source": [
    "True and False"
   ]
  },
  {
   "cell_type": "code",
   "execution_count": 34,
   "metadata": {},
   "outputs": [
    {
     "data": {
      "text/plain": [
       "True"
      ]
     },
     "execution_count": 34,
     "metadata": {},
     "output_type": "execute_result"
    }
   ],
   "source": [
    "True and True"
   ]
  },
  {
   "cell_type": "markdown",
   "metadata": {},
   "source": [
    "Il existe un autre opérateur : **or**. Pour lui, tu peux partir du principe que si au moins l'une des parties est True, alors le résultat est True."
   ]
  },
  {
   "cell_type": "code",
   "execution_count": 35,
   "metadata": {},
   "outputs": [
    {
     "data": {
      "text/plain": [
       "True"
      ]
     },
     "execution_count": 35,
     "metadata": {},
     "output_type": "execute_result"
    }
   ],
   "source": [
    "True or False  # or est l'opérateur OU LOGIQUE"
   ]
  },
  {
   "cell_type": "code",
   "execution_count": 36,
   "metadata": {},
   "outputs": [
    {
     "data": {
      "text/plain": [
       "False"
      ]
     },
     "execution_count": 36,
     "metadata": {},
     "output_type": "execute_result"
    }
   ],
   "source": [
    "False or False"
   ]
  },
  {
   "cell_type": "markdown",
   "metadata": {},
   "source": [
    "## Variables\n",
    "\n",
    "Les variables permettent de stocker des valeurs de n'importe quel type. On peut afficher leur contenu en utilisant **print**."
   ]
  },
  {
   "cell_type": "code",
   "execution_count": 37,
   "metadata": {},
   "outputs": [
    {
     "name": "stdout",
     "output_type": "stream",
     "text": [
      "700\n"
     ]
    }
   ],
   "source": [
    "nombre = 700\n",
    "print(nombre)"
   ]
  },
  {
   "cell_type": "code",
   "execution_count": 38,
   "metadata": {},
   "outputs": [
    {
     "name": "stdout",
     "output_type": "stream",
     "text": [
      "Je suis un message qui sera affiché !\n"
     ]
    }
   ],
   "source": [
    "message = \"Je suis un message qui sera affiché !\"\n",
    "print(message)"
   ]
  },
  {
   "cell_type": "code",
   "execution_count": 39,
   "metadata": {},
   "outputs": [
    {
     "name": "stdout",
     "output_type": "stream",
     "text": [
      "True\n"
     ]
    }
   ],
   "source": [
    "condition = 2 < 3\n",
    "print(condition)"
   ]
  },
  {
   "cell_type": "markdown",
   "metadata": {},
   "source": [
    "Toutes les opérations sur les nombres, chaînes de caractères ou conditions sont conservées."
   ]
  },
  {
   "cell_type": "code",
   "execution_count": 40,
   "metadata": {},
   "outputs": [
    {
     "name": "stdout",
     "output_type": "stream",
     "text": [
      "350\n"
     ]
    }
   ],
   "source": [
    "a = 150\n",
    "b = 200\n",
    "c = a + b\n",
    "print(c)"
   ]
  },
  {
   "cell_type": "markdown",
   "metadata": {},
   "source": [
    "Si tu veux que ton opération modifie ta variable, tu peux procéder de cette manière :"
   ]
  },
  {
   "cell_type": "code",
   "execution_count": 41,
   "metadata": {},
   "outputs": [
    {
     "name": "stdout",
     "output_type": "stream",
     "text": [
      "1500\n",
      "1501\n"
     ]
    }
   ],
   "source": [
    "nombre = 1500\n",
    "print(nombre)\n",
    "nombre = nombre + 1  # ajoute 1 à la valeur contenue dans la variable nombre\n",
    "print(nombre)"
   ]
  },
  {
   "cell_type": "markdown",
   "metadata": {},
   "source": [
    "La méthode ci-dessous aboutit au même résultat, en simplifiant l'écriture :"
   ]
  },
  {
   "cell_type": "code",
   "execution_count": 42,
   "metadata": {},
   "outputs": [
    {
     "name": "stdout",
     "output_type": "stream",
     "text": [
      "99\n",
      "100\n"
     ]
    }
   ],
   "source": [
    "nombre = 99\n",
    "print(nombre)\n",
    "nombre += 1\n",
    "print(nombre)"
   ]
  },
  {
   "cell_type": "markdown",
   "metadata": {},
   "source": [
    "# Collections\n",
    "\n",
    "## Listes\n",
    "\n",
    "Les listes permettent de stocker plusieurs éléments de n'importe quel type. Ces éléments peuvent avoir les mêmes valeurs."
   ]
  },
  {
   "cell_type": "code",
   "execution_count": 43,
   "metadata": {},
   "outputs": [
    {
     "name": "stdout",
     "output_type": "stream",
     "text": [
      "[53, True, 53, \"J'aime bien le caramel, pas toi ?\"]\n"
     ]
    }
   ],
   "source": [
    "L = [53, True, 53, \"J'aime bien le caramel, pas toi ?\"]\n",
    "print(L)"
   ]
  },
  {
   "cell_type": "code",
   "execution_count": 44,
   "metadata": {},
   "outputs": [
    {
     "data": {
      "text/plain": [
       "[1, 2, 3, \"Le chocolat n'est pas mal non plus !\"]"
      ]
     },
     "execution_count": 44,
     "metadata": {},
     "output_type": "execute_result"
    }
   ],
   "source": [
    "list((1, 2, 3, \"Le chocolat n'est pas mal non plus !\"))  # crée une liste à partir des éléments donnés"
   ]
  },
  {
   "cell_type": "markdown",
   "metadata": {},
   "source": [
    "Tu peux les manipuler aisément :"
   ]
  },
  {
   "cell_type": "code",
   "execution_count": 45,
   "metadata": {},
   "outputs": [
    {
     "data": {
      "text/plain": [
       "53"
      ]
     },
     "execution_count": 45,
     "metadata": {},
     "output_type": "execute_result"
    }
   ],
   "source": [
    "L[0]  # récupère le premier élément"
   ]
  },
  {
   "cell_type": "code",
   "execution_count": 46,
   "metadata": {},
   "outputs": [
    {
     "data": {
      "text/plain": [
       "\"J'aime bien le caramel, pas toi ?\""
      ]
     },
     "execution_count": 46,
     "metadata": {},
     "output_type": "execute_result"
    }
   ],
   "source": [
    "L[-1]  # récupère le dernier élément"
   ]
  },
  {
   "cell_type": "code",
   "execution_count": 47,
   "metadata": {},
   "outputs": [
    {
     "data": {
      "text/plain": [
       "4"
      ]
     },
     "execution_count": 47,
     "metadata": {},
     "output_type": "execute_result"
    }
   ],
   "source": [
    "len(L)"
   ]
  },
  {
   "cell_type": "markdown",
   "metadata": {},
   "source": [
    "Il existe plusieurs moyens d'ajouter un élément à la fin d'une liste :"
   ]
  },
  {
   "cell_type": "code",
   "execution_count": 48,
   "metadata": {},
   "outputs": [
    {
     "name": "stdout",
     "output_type": "stream",
     "text": [
      "[53, True, 53, \"J'aime bien le caramel, pas toi ?\", 'Un petit message de plus !']\n"
     ]
    }
   ],
   "source": [
    "L += [\"Un petit message de plus !\"]\n",
    "print(L)"
   ]
  },
  {
   "cell_type": "code",
   "execution_count": 49,
   "metadata": {},
   "outputs": [
    {
     "name": "stdout",
     "output_type": "stream",
     "text": [
      "[53, True, 53, \"J'aime bien le caramel, pas toi ?\", 'Un petit message de plus !', 7456]\n"
     ]
    }
   ],
   "source": [
    "L.append(7456)\n",
    "print(L)"
   ]
  },
  {
   "cell_type": "markdown",
   "metadata": {},
   "source": [
    "Tu peux aussi ajouter un élément à un endroit précis."
   ]
  },
  {
   "cell_type": "code",
   "execution_count": 50,
   "metadata": {},
   "outputs": [
    {
     "name": "stdout",
     "output_type": "stream",
     "text": [
      "['Le commencement', 53, True, 53, \"J'aime bien le caramel, pas toi ?\", 'Un petit message de plus !', 7456]\n"
     ]
    }
   ],
   "source": [
    "L.insert(0, \"Le commencement\")  # ajoute \"le commencement\" en première position\n",
    "print(L)"
   ]
  },
  {
   "cell_type": "markdown",
   "metadata": {},
   "source": [
    "Si tu veux cette fois supprimer un élément, tu peux utiliser **pop**, qui va supprimer l'élément à l'indice donné et le retourner."
   ]
  },
  {
   "cell_type": "code",
   "execution_count": 51,
   "metadata": {},
   "outputs": [
    {
     "data": {
      "text/plain": [
       "'Le commencement'"
      ]
     },
     "execution_count": 51,
     "metadata": {},
     "output_type": "execute_result"
    }
   ],
   "source": [
    "L.pop(0)"
   ]
  },
  {
   "cell_type": "code",
   "execution_count": 52,
   "metadata": {},
   "outputs": [
    {
     "name": "stdout",
     "output_type": "stream",
     "text": [
      "[53, True, 53, \"J'aime bien le caramel, pas toi ?\", 'Un petit message de plus !', 7456]\n"
     ]
    }
   ],
   "source": [
    "print(L)"
   ]
  },
  {
   "cell_type": "markdown",
   "metadata": {},
   "source": [
    "Si tu ne lui donnes pas d'argument, pop supprime le dernier de la liste."
   ]
  },
  {
   "cell_type": "code",
   "execution_count": 53,
   "metadata": {},
   "outputs": [
    {
     "data": {
      "text/plain": [
       "7456"
      ]
     },
     "execution_count": 53,
     "metadata": {},
     "output_type": "execute_result"
    }
   ],
   "source": [
    "L.pop()"
   ]
  },
  {
   "cell_type": "code",
   "execution_count": 54,
   "metadata": {},
   "outputs": [
    {
     "name": "stdout",
     "output_type": "stream",
     "text": [
      "[53, True, 53, \"J'aime bien le caramel, pas toi ?\", 'Un petit message de plus !']\n"
     ]
    }
   ],
   "source": [
    "print(L)"
   ]
  },
  {
   "cell_type": "markdown",
   "metadata": {},
   "source": [
    "Tu peux aussi obtenir des listes en additionnant d'autres listes :"
   ]
  },
  {
   "cell_type": "code",
   "execution_count": 55,
   "metadata": {},
   "outputs": [
    {
     "data": {
      "text/plain": [
       "['un', 'deux', 'trois', 'quatre', 'cinq']"
      ]
     },
     "execution_count": 55,
     "metadata": {},
     "output_type": "execute_result"
    }
   ],
   "source": [
    "[\"un\", \"deux\", \"trois\"] + [\"quatre\", \"cinq\"]"
   ]
  },
  {
   "cell_type": "markdown",
   "metadata": {},
   "source": [
    "Il est possible de vérifier si des éléments sont présents dans une liste en utilisant **in** :"
   ]
  },
  {
   "cell_type": "code",
   "execution_count": 56,
   "metadata": {},
   "outputs": [
    {
     "data": {
      "text/plain": [
       "True"
      ]
     },
     "execution_count": 56,
     "metadata": {},
     "output_type": "execute_result"
    }
   ],
   "source": [
    "exemple = [1, 2, 3, 4, 5, 6, 7, 8]\n",
    "2 in exemple"
   ]
  },
  {
   "cell_type": "code",
   "execution_count": 57,
   "metadata": {},
   "outputs": [
    {
     "data": {
      "text/plain": [
       "False"
      ]
     },
     "execution_count": 57,
     "metadata": {},
     "output_type": "execute_result"
    }
   ],
   "source": [
    "50 in exemple  # cette valeur n'est pas dans la liste exemple"
   ]
  },
  {
   "cell_type": "markdown",
   "metadata": {},
   "source": [
    "Il est possible de diviser une chaîne de caractères en une liste :"
   ]
  },
  {
   "cell_type": "code",
   "execution_count": 58,
   "metadata": {},
   "outputs": [
    {
     "name": "stdout",
     "output_type": "stream",
     "text": [
      "['Les', 'rhododendrons', 'sont', 'mes', 'fleurs', 'préférées']\n"
     ]
    }
   ],
   "source": [
    "chaine = \"Les rhododendrons sont mes fleurs préférées\"\n",
    "liste = chaine.split()\n",
    "print(liste)"
   ]
  },
  {
   "cell_type": "markdown",
   "metadata": {},
   "source": [
    "Sans paramètres, la séparation se fait à chaque espace. Tu peux aussi choisir à quel endroit couper ta chaîne."
   ]
  },
  {
   "cell_type": "code",
   "execution_count": 59,
   "metadata": {},
   "outputs": [
    {
     "name": "stdout",
     "output_type": "stream",
     "text": [
      "['En vérité', \" j'aime aussi beaucoup les myosotis\", \" sans vraiment me l'avouer.\"]\n"
     ]
    }
   ],
   "source": [
    "chaine = \"En vérité, j'aime aussi beaucoup les myosotis, sans vraiment me l'avouer.\"\n",
    "liste = chaine.split(\",\")  # le délimiteur est la virgule\n",
    "print(liste)"
   ]
  },
  {
   "cell_type": "markdown",
   "metadata": {},
   "source": [
    "En faisant une séparation à \",\" les espaces après la virgule sont conservés. Si tu veux t'en débarrasser, il est préférable de choisir \", \" en séparation. Regarde cet exemple : c'est plus joli, non ?"
   ]
  },
  {
   "cell_type": "code",
   "execution_count": 60,
   "metadata": {},
   "outputs": [
    {
     "name": "stdout",
     "output_type": "stream",
     "text": [
      "['Le langage des fleurs', \"je l'ai appris\", 'ne ment jamais']\n"
     ]
    }
   ],
   "source": [
    "chaine = \"Le langage des fleurs, je l'ai appris, ne ment jamais\"\n",
    "liste = chaine.split(\", \")\n",
    "print(liste)"
   ]
  },
  {
   "cell_type": "markdown",
   "metadata": {},
   "source": [
    "### Pour aller plus loin\n",
    "\n",
    "Cette section est un peu plus avancée que les précédentes, et portera sur ce qu'on appelle des **tranches**. Il s'agit de *couper* une liste en ne conservant que les éléments qui nous intéressent.\n",
    "Si tu veux accéder à une petite partie de la liste, mais pas l'intégralité, voici une méthode intéressante :"
   ]
  },
  {
   "cell_type": "code",
   "execution_count": 61,
   "metadata": {},
   "outputs": [
    {
     "name": "stdout",
     "output_type": "stream",
     "text": [
      "[1, 2, 3, 4, 5, 6, 7]\n"
     ]
    }
   ],
   "source": [
    "nombres = [0, 1, 2, 3, 4, 5, 6, 7]\n",
    "print(nombres[1:])  # affiche toute la liste, sauf le premier élément"
   ]
  },
  {
   "cell_type": "code",
   "execution_count": 62,
   "metadata": {},
   "outputs": [
    {
     "name": "stdout",
     "output_type": "stream",
     "text": [
      "[0, 1, 2, 3, 4, 5, 6]\n"
     ]
    }
   ],
   "source": [
    "print(nombres[:-1])  # affiche toute la liste, sauf le dernier élément"
   ]
  },
  {
   "cell_type": "code",
   "execution_count": 63,
   "metadata": {},
   "outputs": [
    {
     "name": "stdout",
     "output_type": "stream",
     "text": [
      "[2, 3, 4]\n"
     ]
    }
   ],
   "source": [
    "print(nombres[2:5])  # affiche les éléments compris entre les positions 2 (inclus) et 5 (exclus)"
   ]
  },
  {
   "cell_type": "markdown",
   "metadata": {},
   "source": [
    "## Tuples\n",
    "\n",
    "Ce nom est étrange, mais pas de panique, tout va bien se passer. Un tuple est un peu comme une liste qu'on ne peut pas modifier. Une fois qu'une valeur est ajoutée à un tuple, elle y reste et ne peut plus changer. On les crée de cette manière :"
   ]
  },
  {
   "cell_type": "code",
   "execution_count": 64,
   "metadata": {},
   "outputs": [
    {
     "name": "stdout",
     "output_type": "stream",
     "text": [
      "('chocolat', 'fraise', 'vanille')\n"
     ]
    }
   ],
   "source": [
    "glaces = (\"chocolat\", \"fraise\", \"vanille\")\n",
    "print(glaces)"
   ]
  },
  {
   "cell_type": "markdown",
   "metadata": {},
   "source": [
    "Envie d'aller plus loin ?"
   ]
  },
  {
   "cell_type": "code",
   "execution_count": 65,
   "metadata": {},
   "outputs": [
    {
     "name": "stdout",
     "output_type": "stream",
     "text": [
      "1\n",
      "2\n",
      "3\n"
     ]
    }
   ],
   "source": [
    "(a, b, c) = (1, 2, 3)\n",
    "print(a)\n",
    "print(b)\n",
    "print(c)"
   ]
  },
  {
   "cell_type": "code",
   "execution_count": 66,
   "metadata": {},
   "outputs": [
    {
     "name": "stdout",
     "output_type": "stream",
     "text": [
      "1\n",
      "2\n",
      "3\n"
     ]
    }
   ],
   "source": [
    "a, b, c = 1, 2, 3  # les parenthèses sont optionnelles !\n",
    "print(a)\n",
    "print(b)\n",
    "print(c)"
   ]
  },
  {
   "cell_type": "markdown",
   "metadata": {},
   "source": [
    "L'accès aux éléments est très semblables aux listes ! Reprenons notre tuple contenant des parfums de glace :"
   ]
  },
  {
   "cell_type": "code",
   "execution_count": 67,
   "metadata": {},
   "outputs": [
    {
     "data": {
      "text/plain": [
       "'chocolat'"
      ]
     },
     "execution_count": 67,
     "metadata": {},
     "output_type": "execute_result"
    }
   ],
   "source": [
    "glaces[0]"
   ]
  },
  {
   "cell_type": "code",
   "execution_count": 68,
   "metadata": {},
   "outputs": [
    {
     "data": {
      "text/plain": [
       "('chocolat', 'fraise')"
      ]
     },
     "execution_count": 68,
     "metadata": {},
     "output_type": "execute_result"
    }
   ],
   "source": [
    "glaces[0:2]"
   ]
  },
  {
   "cell_type": "markdown",
   "metadata": {},
   "source": [
    "Comme tu peux le voir ici, modifier un élément se passe ***très*** mal."
   ]
  },
  {
   "cell_type": "code",
   "execution_count": 69,
   "metadata": {},
   "outputs": [
    {
     "ename": "TypeError",
     "evalue": "'tuple' object does not support item assignment",
     "output_type": "error",
     "traceback": [
      "\u001b[0;31m---------------------------------------------------------------------------\u001b[0m",
      "\u001b[0;31mTypeError\u001b[0m                                 Traceback (most recent call last)",
      "\u001b[0;32m<ipython-input-69-26a97f33349a>\u001b[0m in \u001b[0;36m<module>\u001b[0;34m\u001b[0m\n\u001b[0;32m----> 1\u001b[0;31m \u001b[0mglaces\u001b[0m\u001b[0;34m[\u001b[0m\u001b[0;36m0\u001b[0m\u001b[0;34m]\u001b[0m \u001b[0;34m=\u001b[0m \u001b[0;34m'framboise'\u001b[0m\u001b[0;34m\u001b[0m\u001b[0;34m\u001b[0m\u001b[0m\n\u001b[0m",
      "\u001b[0;31mTypeError\u001b[0m: 'tuple' object does not support item assignment"
     ]
    }
   ],
   "source": [
    "glaces[0] = 'framboise'"
   ]
  },
  {
   "cell_type": "markdown",
   "metadata": {},
   "source": [
    "Quelques opérations sur les tuples :"
   ]
  },
  {
   "cell_type": "code",
   "execution_count": 70,
   "metadata": {},
   "outputs": [
    {
     "data": {
      "text/plain": [
       "True"
      ]
     },
     "execution_count": 70,
     "metadata": {},
     "output_type": "execute_result"
    }
   ],
   "source": [
    "'vanille' in glaces"
   ]
  },
  {
   "cell_type": "code",
   "execution_count": 71,
   "metadata": {},
   "outputs": [
    {
     "data": {
      "text/plain": [
       "3"
      ]
     },
     "execution_count": 71,
     "metadata": {},
     "output_type": "execute_result"
    }
   ],
   "source": [
    "len(glaces)"
   ]
  },
  {
   "cell_type": "code",
   "execution_count": 72,
   "metadata": {},
   "outputs": [
    {
     "data": {
      "text/plain": [
       "('chocolat', 'fraise', 'vanille', 'caramel', 'citron')"
      ]
     },
     "execution_count": 72,
     "metadata": {},
     "output_type": "execute_result"
    }
   ],
   "source": [
    "glaces + (\"caramel\", \"citron\")"
   ]
  },
  {
   "cell_type": "markdown",
   "metadata": {},
   "source": [
    "## Ensembles\n",
    "\n",
    "Les ensembles sont très similaires aux listes, à la différence près que chaque valeur est unique. Ils se construisent de cette manière :"
   ]
  },
  {
   "cell_type": "code",
   "execution_count": 73,
   "metadata": {},
   "outputs": [
    {
     "name": "stdout",
     "output_type": "stream",
     "text": [
      "{1, 2, 3, 'trois', 'un', 'deux'}\n"
     ]
    }
   ],
   "source": [
    "ensemble = {1, 2, 3, \"un\", \"deux\", \"trois\"}\n",
    "print(ensemble)"
   ]
  },
  {
   "cell_type": "markdown",
   "metadata": {},
   "source": [
    "Si des valeurs sont présentes deux fois, elles sont supprimées."
   ]
  },
  {
   "cell_type": "code",
   "execution_count": 74,
   "metadata": {},
   "outputs": [
    {
     "name": "stdout",
     "output_type": "stream",
     "text": [
      "{1, 2, 3}\n"
     ]
    }
   ],
   "source": [
    "ensemble = {1, 2, 3, 1, 2, 3}\n",
    "print(ensemble)"
   ]
  },
  {
   "cell_type": "markdown",
   "metadata": {},
   "source": [
    "Différentes opérations sont possibles :"
   ]
  },
  {
   "cell_type": "code",
   "execution_count": 75,
   "metadata": {},
   "outputs": [
    {
     "data": {
      "text/plain": [
       "{1, 2, 3, 4, 5}"
      ]
     },
     "execution_count": 75,
     "metadata": {},
     "output_type": "execute_result"
    }
   ],
   "source": [
    "{1, 2, 3} | {3, 4, 5}  # les deux sets sont réunis en un seul en supprimant les parties communes"
   ]
  },
  {
   "cell_type": "code",
   "execution_count": 76,
   "metadata": {},
   "outputs": [
    {
     "data": {
      "text/plain": [
       "{1}"
      ]
     },
     "execution_count": 76,
     "metadata": {},
     "output_type": "execute_result"
    }
   ],
   "source": [
    "{1, 2, 3} - {2, 3}  # cet opérateur crée un set qui est constitué du premier set sans les éléments du deuxième"
   ]
  },
  {
   "cell_type": "code",
   "execution_count": 77,
   "metadata": {},
   "outputs": [
    {
     "data": {
      "text/plain": [
       "False"
      ]
     },
     "execution_count": 77,
     "metadata": {},
     "output_type": "execute_result"
    }
   ],
   "source": [
    "42 in {40, 41, 43}"
   ]
  },
  {
   "cell_type": "markdown",
   "metadata": {},
   "source": [
    "## Dictionnaires\n",
    "\n",
    "Une dictionnaire est un ensemble qui associe à chaque élément une **clé** unique."
   ]
  },
  {
   "cell_type": "code",
   "execution_count": 78,
   "metadata": {},
   "outputs": [],
   "source": [
    "dictionnaire = {\"un\":1, \"deux\":2, \"trois\":3}"
   ]
  },
  {
   "cell_type": "markdown",
   "metadata": {},
   "source": [
    "Ici, par exemple, \"un\" est la clé associée à la valeur 1. On peut accéder à cette valeur de cette manière :"
   ]
  },
  {
   "cell_type": "code",
   "execution_count": 79,
   "metadata": {},
   "outputs": [
    {
     "data": {
      "text/plain": [
       "1"
      ]
     },
     "execution_count": 79,
     "metadata": {},
     "output_type": "execute_result"
    }
   ],
   "source": [
    "dictionnaire[\"un\"]"
   ]
  },
  {
   "cell_type": "markdown",
   "metadata": {},
   "source": [
    "L'inconvénient avec cette méthode est que si la clé n'existe pas, on obtient une erreur. Regardons cela :"
   ]
  },
  {
   "cell_type": "code",
   "execution_count": 80,
   "metadata": {},
   "outputs": [
    {
     "ename": "KeyError",
     "evalue": "'quatre'",
     "output_type": "error",
     "traceback": [
      "\u001b[0;31m---------------------------------------------------------------------------\u001b[0m",
      "\u001b[0;31mKeyError\u001b[0m                                  Traceback (most recent call last)",
      "\u001b[0;32m<ipython-input-80-db96aa59cf79>\u001b[0m in \u001b[0;36m<module>\u001b[0;34m\u001b[0m\n\u001b[0;32m----> 1\u001b[0;31m \u001b[0mdictionnaire\u001b[0m\u001b[0;34m[\u001b[0m\u001b[0;34m\"quatre\"\u001b[0m\u001b[0;34m]\u001b[0m\u001b[0;34m\u001b[0m\u001b[0;34m\u001b[0m\u001b[0m\n\u001b[0m",
      "\u001b[0;31mKeyError\u001b[0m: 'quatre'"
     ]
    }
   ],
   "source": [
    "dictionnaire[\"quatre\"]"
   ]
  },
  {
   "cell_type": "markdown",
   "metadata": {},
   "source": [
    "Pour éviter cela, la méthode **get** existe. Elle a l'avantage de nous permettre de donner un autre argument, qui sera renvoyé en cas d'erreur. Pour mieux visualiser ça, voici quelques exemples :"
   ]
  },
  {
   "cell_type": "code",
   "execution_count": 81,
   "metadata": {},
   "outputs": [
    {
     "data": {
      "text/plain": [
       "2"
      ]
     },
     "execution_count": 81,
     "metadata": {},
     "output_type": "execute_result"
    }
   ],
   "source": [
    "dictionnaire.get(\"deux\")  # renvoie le même résultat que dictionnaire[\"deux\"]"
   ]
  },
  {
   "cell_type": "code",
   "execution_count": 82,
   "metadata": {},
   "outputs": [],
   "source": [
    "dictionnaire.get(\"quatre\")  # ne renvoie rien car \"quatre\" n'est pas une clé présente dans le dictionnaire"
   ]
  },
  {
   "cell_type": "code",
   "execution_count": 83,
   "metadata": {},
   "outputs": [
    {
     "data": {
      "text/plain": [
       "\"Il n'y a pas cette valeur ici !\""
      ]
     },
     "execution_count": 83,
     "metadata": {},
     "output_type": "execute_result"
    }
   ],
   "source": [
    "# \"quatre\" n'est pas une clé du dictionnaire, la valeur affichée sera donc celle donnée au deuxième paramètre\n",
    "dictionnaire.get(\"quatre\", \"Il n'y a pas cette valeur ici !\")"
   ]
  },
  {
   "cell_type": "code",
   "execution_count": 84,
   "metadata": {},
   "outputs": [
    {
     "data": {
      "text/plain": [
       "['un', 'deux', 'trois']"
      ]
     },
     "execution_count": 84,
     "metadata": {},
     "output_type": "execute_result"
    }
   ],
   "source": [
    "list(dictionnaire.keys())  # renvoie une liste des clés contenues dans le dictionnaire"
   ]
  },
  {
   "cell_type": "code",
   "execution_count": 85,
   "metadata": {},
   "outputs": [
    {
     "data": {
      "text/plain": [
       "[1, 2, 3]"
      ]
     },
     "execution_count": 85,
     "metadata": {},
     "output_type": "execute_result"
    }
   ],
   "source": [
    "list(dictionnaire.values())  # renvoie une liste des valeurs contenues dans le dictionnaire"
   ]
  },
  {
   "cell_type": "code",
   "execution_count": 86,
   "metadata": {},
   "outputs": [
    {
     "data": {
      "text/plain": [
       "[('un', 1), ('deux', 2), ('trois', 3)]"
      ]
     },
     "execution_count": 86,
     "metadata": {},
     "output_type": "execute_result"
    }
   ],
   "source": [
    "list(dictionnaire.items())  # renvoie une liste des paires clé/valeur"
   ]
  },
  {
   "cell_type": "markdown",
   "metadata": {},
   "source": [
    "Pour modifier les valeurs d'un dictionnaire, différentes méthodes sont envisageables en fonction des besoins."
   ]
  },
  {
   "cell_type": "code",
   "execution_count": 87,
   "metadata": {},
   "outputs": [
    {
     "name": "stdout",
     "output_type": "stream",
     "text": [
      "{'un': 1, 'deux': 2, 'trois': 3, 'six': 6}\n"
     ]
    }
   ],
   "source": [
    "dictionnaire['six'] = 6  # ajoute une paire au dictionnaire\n",
    "print(dictionnaire)"
   ]
  },
  {
   "cell_type": "code",
   "execution_count": 88,
   "metadata": {},
   "outputs": [
    {
     "name": "stdout",
     "output_type": "stream",
     "text": [
      "{'un': 1, 'deux': 2, 'trois': 3, 'six': 6}\n"
     ]
    }
   ],
   "source": [
    "dictionnaire.setdefault('trois', 42)  # si la clé existe déjà, ne fait rien\n",
    "print(dictionnaire)"
   ]
  },
  {
   "cell_type": "code",
   "execution_count": 89,
   "metadata": {},
   "outputs": [
    {
     "name": "stdout",
     "output_type": "stream",
     "text": [
      "{'un': 1, 'deux': 2, 'trois': 3, 'six': 6, 'quatre': 4}\n"
     ]
    }
   ],
   "source": [
    "dictionnaire.setdefault('quatre', 4)  # si la clé n'existe pas, l'ajoute\n",
    "print(dictionnaire)"
   ]
  },
  {
   "cell_type": "markdown",
   "metadata": {},
   "source": [
    "# Structures\n",
    "\n",
    "## Conditions\n",
    "\n",
    "Parfois, il est souhaitable de n'exécuter un morceau de code qu'à certaines conditions. Pour cela, on utilise différents mots-clés : **if**, **elif** et **else**."
   ]
  },
  {
   "cell_type": "code",
   "execution_count": 90,
   "metadata": {},
   "outputs": [
    {
     "name": "stdout",
     "output_type": "stream",
     "text": [
      "Il n'y a personne ici.\n"
     ]
    }
   ],
   "source": [
    "valeur = 0\n",
    "\n",
    "if valeur == 0:  # Cette condition est vraie, la ligne suivante sera affichée\n",
    "    print(\"Il n'y a personne ici.\")\n",
    "elif valeur == 1:  # Cette condition est fausse, la ligne suivante ne sera pas affichée\n",
    "    print(\"Je me sens un peu seul...\")\n",
    "else:  # une des conditions précédentes était vraie, nous n'avons pas besoin d'aller ici\n",
    "    print(\"Plus on est de fous, plus on rit !\")"
   ]
  },
  {
   "cell_type": "code",
   "execution_count": 91,
   "metadata": {},
   "outputs": [
    {
     "name": "stdout",
     "output_type": "stream",
     "text": [
      "Je me sens un peu seul...\n"
     ]
    }
   ],
   "source": [
    "valeur = 1\n",
    "\n",
    "if valeur == 0:  # Cette condition est fausse, la ligne suivante ne sera pas affichée\n",
    "    print(\"Il n'y a personne ici.\")\n",
    "elif valeur == 1:  # Cette condition est vraie, la ligne suivante sera affichée\n",
    "    print(\"Je me sens un peu seul...\")\n",
    "else:  # une des conditions précédentes était vraie, nous n'avons pas besoin d'aller ici\n",
    "    print(\"Plus on est de fous, plus on rit !\")"
   ]
  },
  {
   "cell_type": "code",
   "execution_count": 92,
   "metadata": {},
   "outputs": [
    {
     "name": "stdout",
     "output_type": "stream",
     "text": [
      "Plus on est de fous, plus on rit !\n"
     ]
    }
   ],
   "source": [
    "valeur = 2000\n",
    "\n",
    "if valeur == 0:  # Cette condition est fausse, la ligne suivante ne sera pas affichée\n",
    "    print(\"Il n'y a personne ici.\")\n",
    "elif valeur == 1: # Cette condition est fausse, la ligne suivante ne sera pas affichée\n",
    "    print(\"Je me sens un peu seul...\")\n",
    "else:  # aucune des conditions précédentes n'était vraie, la ligne suivante sera donc affichée\n",
    "    print(\"Plus on est de fous, plus on rit !\")"
   ]
  },
  {
   "cell_type": "markdown",
   "metadata": {},
   "source": [
    "## Boucles\n",
    "\n",
    "Parfois, il est utile de pouvoir exécuter du code plusieurs fois d'affilée. Par exemple, pour afficher tous les nombres de 1 à 10, ce serait bien de ne pas avoir à écrire 10 lignes différentes. C'est à ça que sert le mot-clé **while**."
   ]
  },
  {
   "cell_type": "code",
   "execution_count": 93,
   "metadata": {},
   "outputs": [
    {
     "name": "stdout",
     "output_type": "stream",
     "text": [
      "1\n",
      "2\n",
      "3\n",
      "4\n",
      "5\n",
      "6\n",
      "7\n",
      "8\n",
      "9\n",
      "10\n"
     ]
    }
   ],
   "source": [
    "valeur = 1\n",
    "while valeur <= 10:  # condition : tant que valeur est inférieur à 10, on ne s'arrête pas\n",
    "    print(valeur)\n",
    "    valeur += 1"
   ]
  },
  {
   "cell_type": "markdown",
   "metadata": {},
   "source": [
    "Il est aussi possible d'utiliser le mot-clé **for** :"
   ]
  },
  {
   "cell_type": "code",
   "execution_count": 94,
   "metadata": {},
   "outputs": [
    {
     "name": "stdout",
     "output_type": "stream",
     "text": [
      "0\n",
      "1\n",
      "2\n",
      "3\n",
      "4\n"
     ]
    }
   ],
   "source": [
    "# crée une variable valeur à laquelle on ajoute 1 à chaque tour de boucle\n",
    "for valeur in range(5):  # valeur commencera à 0 et montera jusqu'à atteindre la valeur 4 (5 est exclus)\n",
    "    print(valeur)"
   ]
  },
  {
   "cell_type": "code",
   "execution_count": 95,
   "metadata": {},
   "outputs": [
    {
     "name": "stdout",
     "output_type": "stream",
     "text": [
      "1\n",
      "2\n",
      "3\n",
      "4\n"
     ]
    }
   ],
   "source": [
    "for valeur in range(1, 5):  # ici, valeur commence à 1 au lieu de 0\n",
    "    print(valeur)"
   ]
  },
  {
   "cell_type": "markdown",
   "metadata": {},
   "source": [
    "Il est aussi possible de parcourir une liste avec une boucle for:"
   ]
  },
  {
   "cell_type": "code",
   "execution_count": 96,
   "metadata": {},
   "outputs": [
    {
     "name": "stdout",
     "output_type": "stream",
     "text": [
      "chien\n",
      "chat\n",
      "perroquet\n",
      "poney\n",
      "tortue\n"
     ]
    }
   ],
   "source": [
    "for animal in [\"chien\", \"chat\", \"perroquet\", \"poney\", \"tortue\"]:\n",
    "    print(animal)"
   ]
  },
  {
   "cell_type": "code",
   "execution_count": 97,
   "metadata": {},
   "outputs": [
    {
     "name": "stdout",
     "output_type": "stream",
     "text": [
      "tarte\n",
      "fruits\n",
      "crumble\n",
      "gaufres\n"
     ]
    }
   ],
   "source": [
    "# autre exemple avec une variable\n",
    "desserts = [\"tarte\", \"fruits\", \"crumble\", \"gaufres\"]\n",
    "for d in desserts:\n",
    "    print(d)"
   ]
  },
  {
   "cell_type": "markdown",
   "metadata": {},
   "source": [
    "# Fonctions\n",
    "\n",
    "Il arrive qu'on ait envie de réutiliser plusieurs fois les mêmes quelques lignes de code. Pour éviter de les réecrire, on peut leur donner un nom, un peu comme une variable. Cela s'appelle une fonction.\n",
    "\n",
    "Par exemple :"
   ]
  },
  {
   "cell_type": "code",
   "execution_count": 98,
   "metadata": {},
   "outputs": [],
   "source": [
    "def ma_fonction():  # création de la fonction\n",
    "    print(\"Je suis un gentil serpent ! Je m'appelle Tanguy !\")"
   ]
  },
  {
   "cell_type": "markdown",
   "metadata": {},
   "source": [
    "Pour l'utiliser, on peut l'appeler de cette manière :"
   ]
  },
  {
   "cell_type": "code",
   "execution_count": 99,
   "metadata": {},
   "outputs": [
    {
     "name": "stdout",
     "output_type": "stream",
     "text": [
      "Je suis un gentil serpent ! Je m'appelle Tanguy !\n"
     ]
    }
   ],
   "source": [
    "ma_fonction()"
   ]
  },
  {
   "cell_type": "markdown",
   "metadata": {},
   "source": [
    "C'est déjà plutôt bien ! Les fonctions peuvent aussi prendre des paramètres de n'importe quel type :"
   ]
  },
  {
   "cell_type": "code",
   "execution_count": 100,
   "metadata": {},
   "outputs": [
    {
     "name": "stdout",
     "output_type": "stream",
     "text": [
      "Heureuse de te rencontrer ! Mon nom est Maya !\n"
     ]
    }
   ],
   "source": [
    "def ma_deuxième_fonction(nom):\n",
    "    print(\"Heureuse de te rencontrer ! Mon nom est \" + nom + \" !\")\n",
    "    \n",
    "ma_deuxième_fonction(\"Maya\")"
   ]
  },
  {
   "cell_type": "markdown",
   "metadata": {},
   "source": [
    "Si on change le paramètre lors de l'appel, ce qui est affiché changera aussi."
   ]
  },
  {
   "cell_type": "code",
   "execution_count": 101,
   "metadata": {},
   "outputs": [
    {
     "name": "stdout",
     "output_type": "stream",
     "text": [
      "Heureuse de te rencontrer ! Mon nom est Julie !\n"
     ]
    }
   ],
   "source": [
    "ma_deuxième_fonction(\"Julie\")"
   ]
  },
  {
   "cell_type": "markdown",
   "metadata": {},
   "source": [
    "Il est souvent utile de pouvoir récupérer le résultat d'une fonction, surtout si on y fait des opérations ou des modifications de variable. Pour cela, le mot-clé **return** est très utile !"
   ]
  },
  {
   "cell_type": "code",
   "execution_count": 102,
   "metadata": {},
   "outputs": [],
   "source": [
    "def plus_dix(entier):\n",
    "    entier += 10\n",
    "    return entier"
   ]
  },
  {
   "cell_type": "code",
   "execution_count": 103,
   "metadata": {},
   "outputs": [
    {
     "name": "stdout",
     "output_type": "stream",
     "text": [
      "20\n"
     ]
    }
   ],
   "source": [
    "valeur = plus_dix(10)  # on peut stocker le résultat d'une fonction dans une variable !\n",
    "print(valeur)"
   ]
  },
  {
   "cell_type": "markdown",
   "metadata": {},
   "source": [
    "# Notions avancées\n",
    "\n",
    "Ces notions sont un peu plus difficiles à appréhender. Nous te conseillons d'abord de bien t'entraîner à maîtriser les précédentes.\n",
    "\n",
    "## Importer des bibliothèques\n",
    "\n",
    "C'est bien beau de s'amuser à écrire des programmes, mais il n'est pas nécessaire de réinventer la roue à chaque fois. Il existe des *bibliothèques*, qui sont un regroupement de fonctions qui peuvent être utiles dans des cas particuliers. Pour utiliser ces bibilothèques, il faut d'abord les importer. En utilisant le mot **as**, il est possible de renommer la bibliothèque pour lui donner le nom que l'on désire. Supposons que nous voulions calculer une racine carrée. La bibliothèque math est toute indiquée pour nous aider."
   ]
  },
  {
   "cell_type": "code",
   "execution_count": 104,
   "metadata": {},
   "outputs": [],
   "source": [
    "import math as m"
   ]
  },
  {
   "cell_type": "markdown",
   "metadata": {},
   "source": [
    "La ligne précédente a permis d'importer l'intégralité de la bibliothèque math sous le nom m. On peut désormais utiliser les fonctions qu'elle contient."
   ]
  },
  {
   "cell_type": "code",
   "execution_count": 105,
   "metadata": {},
   "outputs": [
    {
     "data": {
      "text/plain": [
       "4.0"
      ]
     },
     "execution_count": 105,
     "metadata": {},
     "output_type": "execute_result"
    }
   ],
   "source": [
    "m.sqrt(16)  # donne la racine carrée de 16"
   ]
  },
  {
   "cell_type": "markdown",
   "metadata": {},
   "source": [
    "L'inconvénient, c'est qu'on a pris la totalité de math, alors que nous avions juste besoin de la fonction sqrt. Pour ne récupérer que la fonction qu'on veut, il faut procéder comme ça :"
   ]
  },
  {
   "cell_type": "code",
   "execution_count": 106,
   "metadata": {},
   "outputs": [],
   "source": [
    "from math import sqrt"
   ]
  },
  {
   "cell_type": "markdown",
   "metadata": {},
   "source": [
    "Désormais, tu peux faire ça :\n"
   ]
  },
  {
   "cell_type": "code",
   "execution_count": 107,
   "metadata": {},
   "outputs": [
    {
     "data": {
      "text/plain": [
       "4.0"
      ]
     },
     "execution_count": 107,
     "metadata": {},
     "output_type": "execute_result"
    }
   ],
   "source": [
    "sqrt(16)"
   ]
  },
  {
   "cell_type": "markdown",
   "metadata": {},
   "source": [
    "## Classes\n",
    "\n",
    "Les classes sont un moyen très utile de regrouper un ensemble de données et fonctionnalités sous le même nom. Il s'agit en quelque sorte d'un modèle qui va servir de base pour la création d'**objets**. Un exemple valant mieux que mille discours :"
   ]
  },
  {
   "cell_type": "code",
   "execution_count": 108,
   "metadata": {},
   "outputs": [],
   "source": [
    "class Humain:  # définition de la classe, le *modèle*\n",
    "    \n",
    "    # il s'agit d'un contructeur : c'est lui qui va être appelé à chaque fois qu'un objet Humain est créé\n",
    "    def __init__(self, nom, age, taille):  # self représente l'objet en lui-même\n",
    "        self.nom = nom\n",
    "        self.age = age\n",
    "        self.taille = taille       "
   ]
  },
  {
   "cell_type": "markdown",
   "metadata": {},
   "source": [
    "self.nom, self.age et self.taille sont appelés des **attributs**. Créons un objet de type Humain et regardons ses attributs :"
   ]
  },
  {
   "cell_type": "code",
   "execution_count": 109,
   "metadata": {},
   "outputs": [],
   "source": [
    "joseph = Humain(\"Joseph\", 18, 175)"
   ]
  },
  {
   "cell_type": "markdown",
   "metadata": {},
   "source": [
    "On vient de créer un humain dont le nom est Joseph, qui a 18 ans et mesure 175 cm."
   ]
  },
  {
   "cell_type": "code",
   "execution_count": 110,
   "metadata": {},
   "outputs": [
    {
     "name": "stdout",
     "output_type": "stream",
     "text": [
      "Joseph\n",
      "18\n"
     ]
    }
   ],
   "source": [
    "print(joseph.nom)  # on peut accéder aux attributs de cette manière\n",
    "print(joseph.age)"
   ]
  },
  {
   "cell_type": "code",
   "execution_count": 111,
   "metadata": {},
   "outputs": [
    {
     "name": "stdout",
     "output_type": "stream",
     "text": [
      "19\n"
     ]
    }
   ],
   "source": [
    "joseph.age += 1  # il est possible de les modifier\n",
    "print(joseph.age)"
   ]
  },
  {
   "cell_type": "markdown",
   "metadata": {},
   "source": [
    "Vérifions le type de notre variable joseph :"
   ]
  },
  {
   "cell_type": "code",
   "execution_count": 112,
   "metadata": {},
   "outputs": [
    {
     "data": {
      "text/plain": [
       "__main__.Humain"
      ]
     },
     "execution_count": 112,
     "metadata": {},
     "output_type": "execute_result"
    }
   ],
   "source": [
    "type(joseph)  # on voit que joseph est issu de la classe Humain"
   ]
  },
  {
   "cell_type": "markdown",
   "metadata": {},
   "source": [
    "Pour vérifier qu'un objet appartient bien à une classe donnée, tu peux utiliser quelque chose de très pratique qui s'appelle **isinstance**."
   ]
  },
  {
   "cell_type": "code",
   "execution_count": 113,
   "metadata": {},
   "outputs": [
    {
     "data": {
      "text/plain": [
       "True"
      ]
     },
     "execution_count": 113,
     "metadata": {},
     "output_type": "execute_result"
    }
   ],
   "source": [
    "isinstance(joseph, Humain)  # vérifie que joseph appartient bien à la classe Humain"
   ]
  },
  {
   "cell_type": "code",
   "execution_count": 114,
   "metadata": {},
   "outputs": [
    {
     "data": {
      "text/plain": [
       "True"
      ]
     },
     "execution_count": 114,
     "metadata": {},
     "output_type": "execute_result"
    }
   ],
   "source": [
    "isinstance(42, int)  # cela marche aussi avec les types de base !"
   ]
  },
  {
   "cell_type": "code",
   "execution_count": 115,
   "metadata": {},
   "outputs": [
    {
     "data": {
      "text/plain": [
       "False"
      ]
     },
     "execution_count": 115,
     "metadata": {},
     "output_type": "execute_result"
    }
   ],
   "source": [
    "isinstance(\"Ceci est une chaîne de caractères !\", int)"
   ]
  },
  {
   "cell_type": "markdown",
   "metadata": {},
   "source": [
    "Voici un petit résumé des noms de classe de types de bases, que tu peux t'amuser à tester :\n",
    "\n",
    "- **int** pour les entiers\n",
    "- **float** pour les nombres décimaux\n",
    "- **str** pour les chaînes de caractères\n",
    "- **list** pour les listes\n",
    "- **dict** pour les dictionnaires\n",
    "- **tuple** pour les tuples\n",
    "- **set** pour les ensembles"
   ]
  },
  {
   "cell_type": "markdown",
   "metadata": {},
   "source": [
    "Les classes peuvent aussi contenir un équivalent des fonctions, que l'on appelle **méthode**. Reprenons notre classe Humain :"
   ]
  },
  {
   "cell_type": "code",
   "execution_count": 116,
   "metadata": {},
   "outputs": [],
   "source": [
    "class Humain:\n",
    "    \n",
    "    def __init__(self, nom, age, taille):\n",
    "        self.nom = nom\n",
    "        self.age = age\n",
    "        self.taille = taille\n",
    "    \n",
    "    # ceci est une méthode\n",
    "    def presentation(self):\n",
    "        print(\"Mon nom est \" + self.nom + \" !\")\n",
    "        \n",
    "    # ceci est aussi une méthode\n",
    "    def anniversaire(self):\n",
    "        self.age += 1"
   ]
  },
  {
   "cell_type": "code",
   "execution_count": 117,
   "metadata": {},
   "outputs": [
    {
     "name": "stdout",
     "output_type": "stream",
     "text": [
      "Mon nom est Viviane !\n"
     ]
    }
   ],
   "source": [
    "viviane = Humain(\"Viviane\", 20, 170)\n",
    "viviane.presentation()"
   ]
  },
  {
   "cell_type": "code",
   "execution_count": 118,
   "metadata": {},
   "outputs": [
    {
     "name": "stdout",
     "output_type": "stream",
     "text": [
      "20\n",
      "21\n"
     ]
    }
   ],
   "source": [
    "print(viviane.age)\n",
    "viviane.anniversaire()\n",
    "print(viviane.age)"
   ]
  },
  {
   "cell_type": "markdown",
   "metadata": {},
   "source": [
    "Ce document a été rédigé par: `Maya Hannachi <maya.hannachi@prologin.org>`"
   ]
  }
 ],
 "metadata": {
  "kernelspec": {
   "display_name": "Python 3",
   "language": "python",
   "name": "python3"
  },
  "language_info": {
   "codemirror_mode": {
    "name": "ipython",
    "version": 3
   },
   "file_extension": ".py",
   "mimetype": "text/x-python",
   "name": "python",
   "nbconvert_exporter": "python",
   "pygments_lexer": "ipython3",
   "version": "3.6.9"
  }
 },
 "nbformat": 4,
 "nbformat_minor": 4
}
