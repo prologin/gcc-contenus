{
 "metadata": {
  "language_info": {
   "codemirror_mode": {
    "name": "ipython",
    "version": 3
   },
   "file_extension": ".py",
   "mimetype": "text/x-python",
   "name": "python",
   "nbconvert_exporter": "python",
   "pygments_lexer": "ipython3",
   "version": "3.9.2"
  },
  "orig_nbformat": 2,
  "kernelspec": {
   "name": "python392jvsc74a57bd046b376d2f17d79ecd7b5be80067ef07f73b2fc90aafd1bd4b65db14fcb4295d8",
   "display_name": "Python 3.9.2 64-bit"
  },
  "metadata": {
   "interpreter": {
    "hash": "46b376d2f17d79ecd7b5be80067ef07f73b2fc90aafd1bd4b65db14fcb4295d8"
   }
  }
 },
 "nbformat": 4,
 "nbformat_minor": 2,
 "cells": [
  {
   "source": [
    "# Girls can code! \n",
    "## TP cryptologie: Enigma\n",
    "\n",
    "Code de référence"
   ],
   "cell_type": "markdown",
   "metadata": {}
  },
  {
   "source": [
    "---\n",
    "\n",
    "## Rotors donnés"
   ],
   "cell_type": "markdown",
   "metadata": {}
  },
  {
   "cell_type": "code",
   "execution_count": 17,
   "metadata": {},
   "outputs": [],
   "source": [
    "# On defini la forme de chaque rotor\n",
    "rotor_I = \"EKMFLGDQVZNTOWYHXUSPAIBRCJ\"\n",
    "rotor_II = \"AJDKSIRUXBLHWTMCQGZNPYFVOE\"\n",
    "rotor_III = \"BDFHJLCPRTXVZNYEIWGAKMUSQO\"\n",
    "rotor_IV = \"ESOVPZJAYQUIRHXLNFTGKDCMWB\"\n",
    "\n",
    "reflector_A = \"EJMZALYXVBWFCRQUONTSPIKHGD\"\n",
    "reflector_B = \"YRUHQSLDPXNGOKMIEBFZCWVJAT\""
   ]
  },
  {
   "source": [
    "---\n",
    "\n",
    "## Fonctions utiles"
   ],
   "cell_type": "markdown",
   "metadata": {}
  },
  {
   "cell_type": "code",
   "execution_count": 18,
   "metadata": {},
   "outputs": [],
   "source": [
    "# Ces fonctions ne travaillent qu'avec des lettres majuscules !\n",
    "\n",
    "def letter_number(letter):\n",
    "    # Renvoie la position d'une lettre dans l'alphabet\n",
    "    return ord(letter) - ord('A')\n",
    "\n",
    "def number_letter(number):\n",
    "    # Renvoie la lettre à la position donnée dans l'alphabet\n",
    "    return chr(number + ord('A'))"
   ]
  },
  {
   "source": [
    "---\n",
    "\n",
    "## Code principal\n",
    "(commentaires en anglais)"
   ],
   "cell_type": "markdown",
   "metadata": {}
  },
  {
   "cell_type": "code",
   "execution_count": 19,
   "metadata": {},
   "outputs": [],
   "source": [
    "class Enigma:\n",
    "    \"\"\"\n",
    "        the message goes through rotor1, 2, 3, then in the reflector, and rotor 3, 2 and 1\n",
    "        rotor1 rotates by 1 at every letter typed,\n",
    "        rotor2 rotates every 26 letters typed,\n",
    "        rotor3 rotates every 26^2 letters typed\n",
    "    \"\"\"\n",
    "\n",
    "    def __init__(self, rotor1, rotor2, rotor3, reflector, offset1=0, offset2=0, offset3=0):\n",
    "        \"\"\"\n",
    "        initialize an Enigma machine with specific rotors and reflector and set the offset of each rotor\n",
    "\n",
    "        r1, r2, r3: rotors\n",
    "        ref: reflector\n",
    "        x1, x2, x3: rotors' offset\n",
    "        \"\"\"\n",
    "        self.r1 = rotor1\n",
    "        self.r2 = rotor2\n",
    "        self.r3 = rotor3\n",
    "        self.ref = reflector\n",
    "        self.x1 = 0\n",
    "        self.x2 = 0\n",
    "        self.X3 = 0\n",
    "    \n",
    "\n",
    "    def encode_letter(self, letter):\n",
    "        letter = letter.upper()\n",
    "\n",
    "        # First pass in the rotors\n",
    "        res = self.r1[(letter_number(letter) + self.x1) % 26]\n",
    "        res = self.r2[(letter_number(res) + self.x2) % 26]\n",
    "        res = self.r3[(letter_number(res) + self.x3) % 26]\n",
    "        # pass in reflector\n",
    "        res = self.ref[letter_number(res)]\n",
    "\n",
    "        # Backward pass in rotors\n",
    "        res = number_letter((self.r3.index(res) - self.x3) % 26)\n",
    "        res = number_letter((self.r2.index(res) - self.x2) % 26)\n",
    "        res = number_letter((self.r1.index(res) - self.x1) % 26)\n",
    "\n",
    "        # Update rotors\n",
    "        self.x1 += 1\n",
    "        self.x1 %= 26\n",
    "\n",
    "        # If x1 = 0 : the rotor made a full turn, we update x2\n",
    "        if self.x1 == 0:\n",
    "            self.x2 += 1\n",
    "            self.x2 %= 26\n",
    "\n",
    "            # If x2 = 0, the rotor 2 made a full turn, we update x3 \n",
    "            if self.x2 == 0:\n",
    "                self.x3 += 1\n",
    "                self.x3 %= 26\n",
    "                \n",
    "        return res\n",
    "\n",
    "        \n",
    "    def encode_message(self, msg):\n",
    "        res = \"\"\n",
    "        msg = msg.upper() # Put all the message to uppercase\n",
    "\n",
    "        for e in msg:\n",
    "            if e.isalpha():\n",
    "                res += self.encode_letter(e)\n",
    "            else:\n",
    "                # If character is not a letter, just include it without changing it\n",
    "                res += e\n",
    "        \n",
    "        return res\n",
    "\n",
    "\n",
    "    def set_state(self, x1=0, x2=0, x3=0):\n",
    "        \"\"\"\n",
    "        Set the offset of each rotor to arguments passed, (0, 0, 0) if no arguments\n",
    "        \"\"\"\n",
    "        self.x1 = x1\n",
    "        self.x2 = x2\n",
    "        self.x3 = x3"
   ]
  },
  {
   "source": [
    "---\n",
    "\n",
    "## Initialisation de la machine"
   ],
   "cell_type": "markdown",
   "metadata": {}
  },
  {
   "cell_type": "code",
   "execution_count": 20,
   "metadata": {},
   "outputs": [],
   "source": [
    "en = Enigma(rotor_I, rotor_II, rotor_III, reflector_B)\n"
   ]
  },
  {
   "source": [
    "---\n",
    "\n",
    "## Tests"
   ],
   "cell_type": "markdown",
   "metadata": {}
  },
  {
   "cell_type": "code",
   "execution_count": 23,
   "metadata": {},
   "outputs": [
    {
     "output_type": "stream",
     "name": "stdout",
     "text": [
      "EAYHMAXSNN\nHELLOWORLD\n"
     ]
    }
   ],
   "source": [
    "msg = 'HELLO WORLD'\n",
    "\n",
    "en.set_state()\n",
    "coded = en.encode_message(msg)\n",
    "print(coded)\n",
    "\n",
    "en.set_state()\n",
    "decoded = en.encode_message(coded)\n",
    "print(decoded)"
   ]
  },
  {
   "cell_type": "code",
   "execution_count": 25,
   "metadata": {},
   "outputs": [
    {
     "output_type": "stream",
     "name": "stdout",
     "text": [
      "NWFG\nXFOZ\n"
     ]
    }
   ],
   "source": [
    "# On met la machine en mode (0, 0, 0)\n",
    "en.set_state()\n",
    "print(en.encode_message('ABCD'))\n",
    "\n",
    "# On met la machine en mode (1, 2, 3)\n",
    "en.set_state(1,2,3)\n",
    "print(en.encode_message('ABCD'))\n",
    "\n",
    "# Le résultat des 2 appels de fonction est différent"
   ]
  },
  {
   "cell_type": "code",
   "execution_count": null,
   "metadata": {},
   "outputs": [],
   "source": []
  }
 ]
}