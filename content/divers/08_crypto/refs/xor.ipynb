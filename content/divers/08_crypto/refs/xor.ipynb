{
 "metadata": {
  "language_info": {
   "codemirror_mode": {
    "name": "ipython",
    "version": 3
   },
   "file_extension": ".py",
   "mimetype": "text/x-python",
   "name": "python",
   "nbconvert_exporter": "python",
   "pygments_lexer": "ipython3",
   "version": "3.9.4"
  },
  "orig_nbformat": 2,
  "kernelspec": {
   "name": "python394jvsc74a57bd0e2a7c3d20469dda411fd3211f02092a920078d1ca97c72d3dc7928b841d3a44a",
   "display_name": "Python 3.9.4 64-bit"
  },
  "metadata": {
   "interpreter": {
    "hash": "e2a7c3d20469dda411fd3211f02092a920078d1ca97c72d3dc7928b841d3a44a"
   }
  }
 },
 "nbformat": 4,
 "nbformat_minor": 2,
 "cells": [
  {
   "source": [
    "## Code de référence pour la partie sur XOR \n",
    "### Première fonction : `stringToHexa(s)` avec `s` la chaîne de caractères que l'on veut convertir en hexadecimal."
   ],
   "cell_type": "markdown",
   "metadata": {}
  },
  {
   "cell_type": "code",
   "execution_count": 5,
   "metadata": {},
   "outputs": [],
   "source": [
    "def stringToHexa(s):\n",
    "    res = \"\"\n",
    "    for c in s:\n",
    "        # Version en une ligne :\n",
    "        # res += hex(ord(c))[2:].zfill(2)\n",
    "\n",
    "        # on transforme c en ascii\n",
    "        ascii = ord(c)\n",
    "\n",
    "        # on convertit en hexadecimal, renvoie une chaîne de charactères\n",
    "        # de la forme \"0x..\"\n",
    "        h = hex(ascii)\n",
    "\n",
    "        # on retire \"0x\" qui est au début de h\n",
    "        h = h[2:]\n",
    "\n",
    "        # dans le cas où h est de longueur 1, on rajoute un 0\n",
    "        # (on veut que toutes les valeurs hexa soient de longueur 2)\n",
    "        h = h.zfill(2)\n",
    "\n",
    "        # on concatène à res\n",
    "        res += h\n",
    "\n",
    "    return res"
   ]
  },
  {
   "cell_type": "code",
   "execution_count": 6,
   "metadata": {},
   "outputs": [
    {
     "output_type": "stream",
     "name": "stdout",
     "text": [
      "s =  48656c6c6f20576f726c6421\n"
     ]
    }
   ],
   "source": [
    "# test\n",
    "s = \"Hello World!\"\n",
    "print(\"s = \", stringToHexa(s))"
   ]
  },
  {
   "source": [
    "### Deuxième fonction : `msgXor(m, key)` avec `m` le message en hexa que l'on veut chiffrer avec XOR et `key` une clé en hexa de la même longueur que m."
   ],
   "cell_type": "markdown",
   "metadata": {}
  },
  {
   "cell_type": "code",
   "execution_count": 7,
   "metadata": {},
   "outputs": [],
   "source": [
    "def msgXor(m, key):\n",
    "    l = len(m)\n",
    "    res = \"\"\n",
    "    i = 0\n",
    "\n",
    "    while i < l:\n",
    "        #on prend 2 caractères du messages\n",
    "        tmp1 = m[i] + m[i+1]\n",
    "\n",
    "        #on prend 2 caractères de la clé\n",
    "        tmp2 = key[i] + key[i+1]\n",
    "\n",
    "        i+=2\n",
    "\n",
    "        # on convertit de l'hexa à un entier\n",
    "        tmp1 = int(tmp1, 16)\n",
    "        tmp2 = int(tmp2, 16)\n",
    "\n",
    "        #on applique xor\n",
    "        x = tmp1^tmp2\n",
    "\n",
    "        #on transforme en hexa, on retire \"0x\" et on rajoute un 0 au besoin\n",
    "        x = hex(x)[2:].zfill(2)\n",
    "\n",
    "        # on concatène au résultat\n",
    "        res += x\n",
    "\n",
    "        #Version en une ligne:\n",
    "        # res += hex(int(tmp1, 16)^int(tmp2, 16))[2:].zfill(2)\n",
    "        \n",
    "    return res "
   ]
  },
  {
   "source": [
    "### Troisième fonction : `hexaToString(hexa)` avec `hexa` une chaîne de caractères en hexadecimal que l'ont veut convertir en lettres."
   ],
   "cell_type": "markdown",
   "metadata": {}
  },
  {
   "cell_type": "code",
   "execution_count": 8,
   "metadata": {},
   "outputs": [],
   "source": [
    "def hexaToString(hexa):\n",
    "    l = len(hexa)\n",
    "    i = 0\n",
    "    res = \"\"\n",
    "    while i < l:\n",
    "        # on prend 2 caractères de hexa\n",
    "        tmp = hexa[i] + hexa[i+1]\n",
    "        i+=2\n",
    "\n",
    "        # on convertit tmp (qui est en hexa) en un entier\n",
    "        tmp = int(tmp, 16)\n",
    "\n",
    "        # on convertit tmp en caractère\n",
    "        tmp = chr(tmp)\n",
    "\n",
    "        # on concatène à res\n",
    "        res += tmp\n",
    "\n",
    "        # Version en une ligne :\n",
    "        # res += chr(int(tmp, 16))\n",
    "    return res"
   ]
  },
  {
   "source": [
    "### Fonction donnée : `randomHexa(lenstr)` avec `lenstr` la longueur du message en lettres, que l'on souhaite chiffrer.\n",
    " \n",
    "Elle va être utile pour les tests et pour créer des clés de la même taille que le message que l'on souhaite chiffrer avec XOR."
   ],
   "cell_type": "markdown",
   "metadata": {}
  },
  {
   "cell_type": "code",
   "execution_count": 11,
   "metadata": {},
   "outputs": [],
   "source": [
    "import random\n",
    "\n",
    "def randomHexa(lenstr):\n",
    "    string = \"\"\n",
    "    for i in range(lenstr):\n",
    "        rdm_int = random.randint(0, 255) # on génère un entier entre 0 et 255\n",
    "        string += chr(rdm_int) # on convertit en caractère et on concatène\n",
    "    res = stringToHexa(string) # on convertit en hexa pour avoir une clé en hexa\n",
    "    return res"
   ]
  },
  {
   "cell_type": "code",
   "execution_count": 14,
   "metadata": {},
   "outputs": [
    {
     "output_type": "stream",
     "name": "stdout",
     "text": [
      "Test 1\nMessage initial :  Hello World!\nMessage en hexa :  48656c6c6f20576f726c6421\nClé :              63ce246c6e23af6bf49a6efc\nMessage chiffré :  2bab48000103f80486f60add\nDéchiffré :        48656c6c6f20576f726c6421\nMessage initial :  Hello World!\n\nTest 2\nMessage initial :  Luke, je suis ton père.\nMessage en hexa :  4c756b652c206a65207375697320746f6e2070e872652e\nClé :              7e330aa255d15c3508414ceae911e0fab359dec51a48c2\nMessage chiffré :  324661c779f13650283239839a319495dd79ae2d682dec\nDéchiffré :        4c756b652c206a65207375697320746f6e2070e872652e\nMessage initial :  Luke, je suis ton père.\n"
     ]
    }
   ],
   "source": [
    "# Quelques tests\n",
    "\n",
    "# 1\n",
    "print(\"Test 1\")\n",
    "s = \"Hello World!\"\n",
    "h = randomHexa(len(s))\n",
    "print(\"Message initial : \", s)\n",
    "print(\"Message en hexa : \",stringToHexa(s))\n",
    "print(\"Clé :             \", h)\n",
    "\n",
    "# on chiffre !\n",
    "tmp = msgXor(stringToHexa(s), h)\n",
    "print(\"Message chiffré : \", tmp)\n",
    "\n",
    "# on déchiffre !\n",
    "dec = msgXor(tmp, h)\n",
    "print(\"Déchiffré :       \", dec)\n",
    "\n",
    "# on convertit en clair !\n",
    "clear = hexaToString(dec)\n",
    "print(\"Message initial : \",clear)\n",
    "\n",
    "print()\n",
    "\n",
    "# 2\n",
    "print(\"Test 2\")\n",
    "s = \"Luke, je suis ton père.\"\n",
    "h = randomHexa(len(s))\n",
    "print(\"Message initial : \", s)\n",
    "print(\"Message en hexa : \",stringToHexa(s))\n",
    "print(\"Clé :             \", h)\n",
    "\n",
    "# on chiffre !\n",
    "tmp = msgXor(stringToHexa(s), h)\n",
    "print(\"Message chiffré : \", tmp)\n",
    "\n",
    "# on déchiffre !\n",
    "dec = msgXor(tmp, h)\n",
    "print(\"Déchiffré :       \", dec)\n",
    "\n",
    "# on convertit en clair !\n",
    "clear = hexaToString(dec)\n",
    "print(\"Message initial : \",clear)"
   ]
  },
  {
   "cell_type": "code",
   "execution_count": null,
   "metadata": {},
   "outputs": [],
   "source": []
  }
 ]
}