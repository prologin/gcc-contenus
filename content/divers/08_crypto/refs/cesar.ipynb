{
 "metadata": {
  "language_info": {
   "codemirror_mode": {
    "name": "ipython",
    "version": 3
   },
   "file_extension": ".py",
   "mimetype": "text/x-python",
   "name": "python",
   "nbconvert_exporter": "python",
   "pygments_lexer": "ipython3",
   "version": "3.9.4"
  },
  "orig_nbformat": 2,
  "kernelspec": {
   "name": "python394jvsc74a57bd0e2a7c3d20469dda411fd3211f02092a920078d1ca97c72d3dc7928b841d3a44a",
   "display_name": "Python 3.9.4 64-bit"
  },
  "metadata": {
   "interpreter": {
    "hash": "e2a7c3d20469dda411fd3211f02092a920078d1ca97c72d3dc7928b841d3a44a"
   }
  }
 },
 "nbformat": 4,
 "nbformat_minor": 2,
 "cells": [
  {
   "source": [
    "### Code de référence pour la partie sur le chiffre de César\n",
    "\n",
    "Première fonction : `letterCaesar(l, d)`  avec `l` la lettre sur laquelle appliquer le chiffre de César et `d` un nombre entier correspondant au décalage."
   ],
   "cell_type": "markdown",
   "metadata": {}
  },
  {
   "cell_type": "code",
   "execution_count": 1,
   "metadata": {},
   "outputs": [],
   "source": [
    "def letterCaesar(l, d):\n",
    "\n",
    "    # On vérifie si c'est bien une lettre\n",
    "    if not l.isalpha():\n",
    "        return l   \n",
    "\n",
    "    # Pour gérer les majuscules et minuscules\n",
    "    a = 'a'\n",
    "    if l.isupper():   \n",
    "        a = 'A'\n",
    "    \n",
    "    # On applique le décalage, on obtient une valeur entre 0 et 26\n",
    "    res = (ord(l) - ord(a) + d) % 26\n",
    "\n",
    "    #On rajoute la valeur ASCII de a et on return un char\n",
    "    return chr(res + ord(a)) "
   ]
  },
  {
   "cell_type": "code",
   "execution_count": 6,
   "metadata": {},
   "outputs": [
    {
     "output_type": "stream",
     "name": "stdout",
     "text": [
      "d\na\nz\nu\nU\n"
     ]
    }
   ],
   "source": [
    "# Quelques tests\n",
    "print(letterCaesar('a', 3))\n",
    "print(letterCaesar('d', -3))\n",
    "print(letterCaesar('d', -4))\n",
    "print(letterCaesar('e', 42))\n",
    "print(letterCaesar('E', 42))"
   ]
  },
  {
   "source": [
    "Deuxième fonction : `textCaesar(t, d)` avec `t`le texte que l'on veut chiffrer et `d` un nombre entier correspondant au décalage."
   ],
   "cell_type": "markdown",
   "metadata": {}
  },
  {
   "cell_type": "code",
   "execution_count": 7,
   "metadata": {},
   "outputs": [],
   "source": [
    "def textCaesar(t, d):\n",
    "    l = len(t)\n",
    "    res = \"\"\n",
    "    for i in range(l):\n",
    "        res += letterCaesar(t[i], d)\n",
    "    return res"
   ]
  },
  {
   "cell_type": "code",
   "execution_count": 12,
   "metadata": {},
   "outputs": [
    {
     "output_type": "stream",
     "name": "stdout",
     "text": [
      "Rovvy Gybvn !\nHello World !\nJluov Fdq Frgh!\n"
     ]
    }
   ],
   "source": [
    "print(textCaesar(\"Hello World !\", 10))\n",
    "print(textCaesar(\"Rovvy Gybvn !\", -10))\n",
    "print(textCaesar(\"Girls Can Code!\", 3))"
   ]
  },
  {
   "source": [
    "Troisième fonction: `breakCaesar(msg)` avec `msg` le message (texte) que l'on veut déchiffrer."
   ],
   "cell_type": "markdown",
   "metadata": {}
  },
  {
   "cell_type": "code",
   "execution_count": 16,
   "metadata": {},
   "outputs": [],
   "source": [
    "def breakCaesar(msg):\n",
    "    for i in range(26):\n",
    "        print(textCaesar(msg, i))"
   ]
  },
  {
   "cell_type": "code",
   "execution_count": 18,
   "metadata": {},
   "outputs": [
    {
     "output_type": "stream",
     "name": "stdout",
     "text": [
      "Jluov Fdq Frgh!\nKmvpw Ger Gshi!\nLnwqx Hfs Htij!\nMoxry Igt Iujk!\nNpysz Jhu Jvkl!\nOqzta Kiv Kwlm!\nPraub Ljw Lxmn!\nQsbvc Mkx Myno!\nRtcwd Nly Nzop!\nSudxe Omz Oapq!\nTveyf Pna Pbqr!\nUwfzg Qob Qcrs!\nVxgah Rpc Rdst!\nWyhbi Sqd Setu!\nXzicj Tre Tfuv!\nYajdk Usf Ugvw!\nZbkel Vtg Vhwx!\nAclfm Wuh Wixy!\nBdmgn Xvi Xjyz!\nCenho Ywj Ykza!\nDfoip Zxk Zlab!\nEgpjq Ayl Ambc!\nFhqkr Bzm Bncd!\nGirls Can Code!\nHjsmt Dbo Dpef!\nIktnu Ecp Eqfg!\nC'RXV UV XCRTV T'VJK CR MZV\nD'SYW VW YDSUW U'WKL DS NAW\nE'TZX WX ZETVX V'XLM ET OBX\nF'UAY XY AFUWY W'YMN FU PCY\nG'VBZ YZ BGVXZ X'ZNO GV QDZ\nH'WCA ZA CHWYA Y'AOP HW REA\nI'XDB AB DIXZB Z'BPQ IX SFB\nJ'YEC BC EJYAC A'CQR JY TGC\nK'ZFD CD FKZBD B'DRS KZ UHD\nL'AGE DE GLACE C'EST LA VIE\nM'BHF EF HMBDF D'FTU MB WJF\nN'CIG FG INCEG E'GUV NC XKG\nO'DJH GH JODFH F'HVW OD YLH\nP'EKI HI KPEGI G'IWX PE ZMI\nQ'FLJ IJ LQFHJ H'JXY QF ANJ\nR'GMK JK MRGIK I'KYZ RG BOK\nS'HNL KL NSHJL J'LZA SH CPL\nT'IOM LM OTIKM K'MAB TI DQM\nU'JPN MN PUJLN L'NBC UJ ERN\nV'KQO NO QVKMO M'OCD VK FSO\nW'LRP OP RWLNP N'PDE WL GTP\nX'MSQ PQ SXMOQ O'QEF XM HUQ\nY'NTR QR TYNPR P'RFG YN IVR\nZ'OUS RS UZOQS Q'SGH ZO JWS\nA'PVT ST VAPRT R'THI AP KXT\nB'QWU TU WBQSU S'UIJ BQ LYU\n"
     ]
    }
   ],
   "source": [
    "breakCaesar(\"Jluov Fdq Frgh!\")\n",
    "print()\n",
    "breakCaesar(\"C'RXV UV XCRTV T'VJK CR MZV\")"
   ]
  },
  {
   "cell_type": "code",
   "execution_count": null,
   "metadata": {},
   "outputs": [],
   "source": []
  }
 ]
}