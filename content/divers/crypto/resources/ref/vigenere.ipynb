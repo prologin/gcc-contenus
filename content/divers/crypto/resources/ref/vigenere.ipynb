{
 "metadata": {
  "language_info": {
   "codemirror_mode": {
    "name": "ipython",
    "version": 3
   },
   "file_extension": ".py",
   "mimetype": "text/x-python",
   "name": "python",
   "nbconvert_exporter": "python",
   "pygments_lexer": "ipython3",
   "version": "3.9.4"
  },
  "orig_nbformat": 2,
  "kernelspec": {
   "name": "python394jvsc74a57bd0e2a7c3d20469dda411fd3211f02092a920078d1ca97c72d3dc7928b841d3a44a",
   "display_name": "Python 3.9.4 64-bit"
  },
  "metadata": {
   "interpreter": {
    "hash": "e2a7c3d20469dda411fd3211f02092a920078d1ca97c72d3dc7928b841d3a44a"
   }
  }
 },
 "nbformat": 4,
 "nbformat_minor": 2,
 "cells": [
  {
   "cell_type": "code",
   "execution_count": 1,
   "metadata": {},
   "outputs": [
    {
     "output_type": "stream",
     "name": "stdout",
     "text": [
      "a\nx\n"
     ]
    }
   ],
   "source": [
    "def rotChar(c: str, x: int):\n",
    "\tif not c.isalpha():\n",
    "\t\treturn c\n",
    "\t\n",
    "\ta = 'A' if c.isupper() else 'a'\n",
    "\t\n",
    "\tnew_c = (ord(c) - ord(a) + x) % 26\n",
    "\n",
    "\treturn chr(new_c + ord(a))\n",
    "\n",
    "print(rotChar('x', 3))\n",
    "print(rotChar('a', -3))"
   ]
  },
  {
   "cell_type": "code",
   "execution_count": 2,
   "metadata": {},
   "outputs": [],
   "source": [
    "def cipherVig(txt: str, key: str, decipher:bool =False):\n",
    "    if not key.isalpha():\n",
    "        raise Exception(\"La clé doit être un simple mot sans accent.\")\n",
    "\n",
    "    # Build the list of offsets from the key\n",
    "    offsets = [ord(x) - ord('A') for x in key.upper()]\n",
    "    lk = len(offsets)\n",
    "\n",
    "    # Set the opposite coefficient if should decipher\n",
    "    x = -1 if decipher else 1\n",
    "\n",
    "    # Build the final string by applying rotChar()\n",
    "    res = \"\"\n",
    "    for i in range(len(txt)):\n",
    "        res += rotChar(txt[i], offsets[i % lk] * x)\n",
    "    \n",
    "    return res"
   ]
  },
  {
   "cell_type": "code",
   "execution_count": 3,
   "metadata": {},
   "outputs": [
    {
     "output_type": "stream",
     "name": "stdout",
     "text": [
      "E'ikjbksa gtj y vljozii us zfmis gimx \n"
     ]
    }
   ],
   "source": [
    "x = cipherVig(\"N'hésitez pas à essayer de votre côté \", \"Robert\")\n",
    "print(x)"
   ]
  },
  {
   "cell_type": "code",
   "execution_count": 4,
   "metadata": {},
   "outputs": [
    {
     "output_type": "stream",
     "name": "stdout",
     "text": [
      "N'hgsitez pas x essayer de votre crtg \n"
     ]
    }
   ],
   "source": [
    "x = cipherVig(\"E'ikjbksa gtj y vljozii us zfmis gimx \", \"Robert\", decipher=True)\n",
    "print(x)"
   ]
  },
  {
   "cell_type": "code",
   "execution_count": 5,
   "metadata": {},
   "outputs": [
    {
     "output_type": "execute_result",
     "data": {
      "text/plain": [
       "'Ezqrgyx gdx xzxwg fqcyuzgexj ?'"
      ]
     },
     "metadata": {},
     "execution_count": 5
    }
   ],
   "source": [
    "cipherVig(\"Comment est votre blanquette ?\", \"clef\")"
   ]
  },
  {
   "cell_type": "code",
   "execution_count": null,
   "metadata": {},
   "outputs": [],
   "source": []
  }
 ]
}